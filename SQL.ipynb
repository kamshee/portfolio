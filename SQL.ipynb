{
 "cells": [
  {
   "cell_type": "markdown",
   "metadata": {},
   "source": [
    "# SQL Examples using SQLAlchemy in Python"
   ]
  },
  {
   "cell_type": "markdown",
   "metadata": {},
   "source": [
    "Objective: Demonstrate the use of SQLAlchemy to make SQL queries.\n",
    "\n",
    "SQLAlchemy features:\n",
    "- Supported platforms: Python, Jython, Pypy\n",
    "- Various SQL databases are supported including dialects for SQLite, Postgresql, MySQL, Oracle, MS-SQL, Firebird, Sybase and others, most of which support multiple DBAPIs.\n",
    "- Reference: https://www.sqlalchemy.org/features.html\n",
    "\n",
    "Summary of contents:\n",
    "1. Import packages\n",
    "2. Explore database before querying using SQLite\n",
    "3. Basic query workflow\n",
    "4. Load directly into pandas dataframe\n",
    "5. SQLAlchemy queries\n",
    "6. Convert results into dataframe and visualize using Matplotlib\n",
    "7. Join customer and invoice tables\n",
    "8. Hierarchical Tables\n",
    "9. Dealing with large results\n",
    "10. Creating and Manipulating databases and tables"
   ]
  },
  {
   "cell_type": "markdown",
   "metadata": {
    "heading_collapsed": true
   },
   "source": [
    "# 1. Import packages"
   ]
  },
  {
   "cell_type": "code",
   "execution_count": 194,
   "metadata": {
    "ExecuteTime": {
     "end_time": "2018-10-28T03:41:49.454350Z",
     "start_time": "2018-10-28T03:41:49.450145Z"
    },
    "hidden": true
   },
   "outputs": [],
   "source": [
    "from sqlalchemy import (create_engine, MetaData, Table, Column, select, \n",
    "                        and_, or_, not_, between, func, case, cast, \n",
    "                        Float, Integer, String, Boolean, insert, update)\n",
    "import pandas as pd\n",
    "import matplotlib.pyplot as plt"
   ]
  },
  {
   "cell_type": "markdown",
   "metadata": {
    "heading_collapsed": true
   },
   "source": [
    "# 2. Explore database before querying using SQLite"
   ]
  },
  {
   "cell_type": "code",
   "execution_count": 43,
   "metadata": {
    "ExecuteTime": {
     "end_time": "2018-10-26T05:09:24.730528Z",
     "start_time": "2018-10-26T05:09:24.718012Z"
    },
    "hidden": true
   },
   "outputs": [
    {
     "name": "stdout",
     "output_type": "stream",
     "text": [
      "Table names:  ['albums', 'artists', 'customers', 'employees', 'genres', 'invoice_items', 'invoices', 'media_types', 'playlist_track', 'playlists', 'sqlite_sequence', 'sqlite_stat1', 'tracks']\n"
     ]
    }
   ],
   "source": [
    "# check table names\n",
    "engine = create_engine('sqlite:///chinook.db')\n",
    "connection = engine.connect()\n",
    "print('Table names: ', engine.table_names())"
   ]
  },
  {
   "cell_type": "code",
   "execution_count": 35,
   "metadata": {
    "ExecuteTime": {
     "end_time": "2018-10-26T03:01:06.355994Z",
     "start_time": "2018-10-26T03:01:06.346721Z"
    },
    "hidden": true
   },
   "outputs": [
    {
     "name": "stdout",
     "output_type": "stream",
     "text": [
      "Table('employees', MetaData(bind=None), Column('EmployeeId', INTEGER(), table=<employees>, primary_key=True, nullable=False), Column('LastName', NVARCHAR(length=20), table=<employees>, nullable=False), Column('FirstName', NVARCHAR(length=20), table=<employees>, nullable=False), Column('Title', NVARCHAR(length=30), table=<employees>), Column('ReportsTo', INTEGER(), ForeignKey('employees.EmployeeId'), table=<employees>), Column('BirthDate', DATETIME(), table=<employees>), Column('HireDate', DATETIME(), table=<employees>), Column('Address', NVARCHAR(length=70), table=<employees>), Column('City', NVARCHAR(length=40), table=<employees>), Column('State', NVARCHAR(length=40), table=<employees>), Column('Country', NVARCHAR(length=40), table=<employees>), Column('PostalCode', NVARCHAR(length=10), table=<employees>), Column('Phone', NVARCHAR(length=24), table=<employees>), Column('Fax', NVARCHAR(length=24), table=<employees>), Column('Email', NVARCHAR(length=60), table=<employees>), schema=None)\n"
     ]
    }
   ],
   "source": [
    "# view column names and data types\n",
    "metadata = MetaData()\n",
    "employees = Table('employees', metadata, autoload=True, \n",
    "               autoload_with=engine)\n",
    "print(repr(employees))"
   ]
  },
  {
   "cell_type": "code",
   "execution_count": 132,
   "metadata": {
    "ExecuteTime": {
     "end_time": "2018-10-27T23:34:28.009569Z",
     "start_time": "2018-10-27T23:34:27.992787Z"
    },
    "hidden": true
   },
   "outputs": [],
   "source": [
    "# view invoices table\n",
    "metadata = MetaData()\n",
    "invoices = Table('invoices', metadata, autoload=True, \n",
    "               autoload_with=engine)"
   ]
  },
  {
   "cell_type": "markdown",
   "metadata": {
    "heading_collapsed": true
   },
   "source": [
    "# 3. Basic query workflow"
   ]
  },
  {
   "cell_type": "code",
   "execution_count": 77,
   "metadata": {
    "ExecuteTime": {
     "end_time": "2018-10-27T01:45:04.300378Z",
     "start_time": "2018-10-27T01:45:04.272227Z"
    },
    "hidden": true
   },
   "outputs": [
    {
     "name": "stdout",
     "output_type": "stream",
     "text": [
      "5\n",
      "   EmployeeId LastName FirstName                Title  ReportsTo  \\\n",
      "0           1    Adams    Andrew      General Manager        NaN   \n",
      "1           2  Edwards     Nancy        Sales Manager        1.0   \n",
      "2           3  Peacock      Jane  Sales Support Agent        2.0   \n",
      "3           4     Park  Margaret  Sales Support Agent        2.0   \n",
      "4           5  Johnson     Steve  Sales Support Agent        2.0   \n",
      "\n",
      "             BirthDate             HireDate              Address      City  \\\n",
      "0  1962-02-18 00:00:00  2002-08-14 00:00:00  11120 Jasper Ave NW  Edmonton   \n",
      "1  1958-12-08 00:00:00  2002-05-01 00:00:00         825 8 Ave SW   Calgary   \n",
      "2  1973-08-29 00:00:00  2002-04-01 00:00:00        1111 6 Ave SW   Calgary   \n",
      "3  1947-09-19 00:00:00  2003-05-03 00:00:00     683 10 Street SW   Calgary   \n",
      "4  1965-03-03 00:00:00  2003-10-17 00:00:00         7727B 41 Ave   Calgary   \n",
      "\n",
      "  State Country PostalCode              Phone                Fax  \\\n",
      "0    AB  Canada    T5K 2N1  +1 (780) 428-9482  +1 (780) 428-3457   \n",
      "1    AB  Canada    T2P 2T3  +1 (403) 262-3443  +1 (403) 262-3322   \n",
      "2    AB  Canada    T2P 5M5  +1 (403) 262-3443  +1 (403) 262-6712   \n",
      "3    AB  Canada    T2P 5G3  +1 (403) 263-4423  +1 (403) 263-4289   \n",
      "4    AB  Canada    T3B 1Y7   1 (780) 836-9987   1 (780) 836-9543   \n",
      "\n",
      "                      Email  \n",
      "0    andrew@chinookcorp.com  \n",
      "1     nancy@chinookcorp.com  \n",
      "2      jane@chinookcorp.com  \n",
      "3  margaret@chinookcorp.com  \n",
      "4     steve@chinookcorp.com  \n"
     ]
    }
   ],
   "source": [
    "# Create the database engine\n",
    "engine = create_engine('sqlite:///chinook.db')\n",
    "\n",
    "# Use context manager to connect to the engine and \n",
    "# skip manually closing the connection\n",
    "with engine.connect() as con:\n",
    "    # query the database by selecting columns\n",
    "    rs = con.execute(\"SELECT * FROM Employees\")\n",
    "    # save as pandas dataframe and select 20 rows with size argument\n",
    "    df = pd.DataFrame(rs.fetchmany(size=5))\n",
    "    # set column names\n",
    "    df.columns = rs.keys()\n",
    "    \n",
    "# EDA\n",
    "print(len(df))\n",
    "print(df.head())"
   ]
  },
  {
   "cell_type": "markdown",
   "metadata": {
    "heading_collapsed": true
   },
   "source": [
    "# 4. Load directly into pandas dataframe"
   ]
  },
  {
   "cell_type": "code",
   "execution_count": 73,
   "metadata": {
    "ExecuteTime": {
     "end_time": "2018-10-26T21:17:21.474854Z",
     "start_time": "2018-10-26T21:17:21.450457Z"
    },
    "hidden": true
   },
   "outputs": [
    {
     "name": "stdout",
     "output_type": "stream",
     "text": [
      "dataframe dimensions:  (8, 15)\n",
      "   EmployeeId LastName FirstName                Title  ReportsTo  \\\n",
      "0           1    Adams    Andrew      General Manager        NaN   \n",
      "1           2  Edwards     Nancy        Sales Manager        1.0   \n",
      "2           3  Peacock      Jane  Sales Support Agent        2.0   \n",
      "3           4     Park  Margaret  Sales Support Agent        2.0   \n",
      "4           5  Johnson     Steve  Sales Support Agent        2.0   \n",
      "\n",
      "             BirthDate             HireDate              Address      City  \\\n",
      "0  1962-02-18 00:00:00  2002-08-14 00:00:00  11120 Jasper Ave NW  Edmonton   \n",
      "1  1958-12-08 00:00:00  2002-05-01 00:00:00         825 8 Ave SW   Calgary   \n",
      "2  1973-08-29 00:00:00  2002-04-01 00:00:00        1111 6 Ave SW   Calgary   \n",
      "3  1947-09-19 00:00:00  2003-05-03 00:00:00     683 10 Street SW   Calgary   \n",
      "4  1965-03-03 00:00:00  2003-10-17 00:00:00         7727B 41 Ave   Calgary   \n",
      "\n",
      "  State Country PostalCode              Phone                Fax  \\\n",
      "0    AB  Canada    T5K 2N1  +1 (780) 428-9482  +1 (780) 428-3457   \n",
      "1    AB  Canada    T2P 2T3  +1 (403) 262-3443  +1 (403) 262-3322   \n",
      "2    AB  Canada    T2P 5M5  +1 (403) 262-3443  +1 (403) 262-6712   \n",
      "3    AB  Canada    T2P 5G3  +1 (403) 263-4423  +1 (403) 263-4289   \n",
      "4    AB  Canada    T3B 1Y7   1 (780) 836-9987   1 (780) 836-9543   \n",
      "\n",
      "                      Email  \n",
      "0    andrew@chinookcorp.com  \n",
      "1     nancy@chinookcorp.com  \n",
      "2      jane@chinookcorp.com  \n",
      "3  margaret@chinookcorp.com  \n",
      "4     steve@chinookcorp.com  \n"
     ]
    }
   ],
   "source": [
    "# Create engine: engine\n",
    "engine = create_engine('sqlite:///chinook.db')\n",
    "\n",
    "# Execute query and store records in DataFrame: df\n",
    "df = pd.read_sql_query(\"SELECT * FROM Employees\", engine)\n",
    "\n",
    "print('dataframe dimensions: ', df.shape)\n",
    "print(df.head(5))"
   ]
  },
  {
   "cell_type": "markdown",
   "metadata": {
    "heading_collapsed": true
   },
   "source": [
    "# 5. SQLAlchemy queries"
   ]
  },
  {
   "cell_type": "markdown",
   "metadata": {
    "heading_collapsed": true,
    "hidden": true
   },
   "source": [
    "## 5.1 Execute a Select statement"
   ]
  },
  {
   "cell_type": "code",
   "execution_count": 100,
   "metadata": {
    "ExecuteTime": {
     "end_time": "2018-10-27T02:07:40.739894Z",
     "start_time": "2018-10-27T02:07:40.734050Z"
    },
    "hidden": true
   },
   "outputs": [
    {
     "name": "stdout",
     "output_type": "stream",
     "text": [
      "SELECT employees.\"EmployeeId\", employees.\"LastName\", employees.\"FirstName\", employees.\"Title\", employees.\"ReportsTo\", employees.\"BirthDate\", employees.\"HireDate\", employees.\"Address\", employees.\"City\", employees.\"State\", employees.\"Country\", employees.\"PostalCode\", employees.\"Phone\", employees.\"Fax\", employees.\"Email\" \n",
      "FROM employees \n",
      "\n",
      "[(1, 'Adams', 'Andrew', 'General Manager', None, datetime.datetime(1962, 2, 18, 0, 0), datetime.datetime(2002, 8, 14, 0, 0), '11120 Jasper Ave NW', 'Edmonton', 'AB', 'Canada', 'T5K 2N1', '+1 (780) 428-9482', '+1 (780) 428-3457', 'andrew@chinookcorp.com'), (2, 'Edwards', 'Nancy', 'Sales Manager', 1, datetime.datetime(1958, 12, 8, 0, 0), datetime.datetime(2002, 5, 1, 0, 0), '825 8 Ave SW', 'Calgary', 'AB', 'Canada', 'T2P 2T3', '+1 (403) 262-3443', '+1 (403) 262-3322', 'nancy@chinookcorp.com'), (3, 'Peacock', 'Jane', 'Sales Support Agent', 2, datetime.datetime(1973, 8, 29, 0, 0), datetime.datetime(2002, 4, 1, 0, 0), '1111 6 Ave SW', 'Calgary', 'AB', 'Canada', 'T2P 5M5', '+1 (403) 262-3443', '+1 (403) 262-6712', 'jane@chinookcorp.com'), (4, 'Park', 'Margaret', 'Sales Support Agent', 2, datetime.datetime(1947, 9, 19, 0, 0), datetime.datetime(2003, 5, 3, 0, 0), '683 10 Street SW', 'Calgary', 'AB', 'Canada', 'T2P 5G3', '+1 (403) 263-4423', '+1 (403) 263-4289', 'margaret@chinookcorp.com'), (5, 'Johnson', 'Steve', 'Sales Support Agent', 2, datetime.datetime(1965, 3, 3, 0, 0), datetime.datetime(2003, 10, 17, 0, 0), '7727B 41 Ave', 'Calgary', 'AB', 'Canada', 'T3B 1Y7', '1 (780) 836-9987', '1 (780) 836-9543', 'steve@chinookcorp.com'), (6, 'Mitchell', 'Michael', 'IT Manager', 1, datetime.datetime(1973, 7, 1, 0, 0), datetime.datetime(2003, 10, 17, 0, 0), '5827 Bowness Road NW', 'Calgary', 'AB', 'Canada', 'T3B 0C5', '+1 (403) 246-9887', '+1 (403) 246-9899', 'michael@chinookcorp.com'), (7, 'King', 'Robert', 'IT Staff', 6, datetime.datetime(1970, 5, 29, 0, 0), datetime.datetime(2004, 1, 2, 0, 0), '590 Columbia Boulevard West', 'Lethbridge', 'AB', 'Canada', 'T1K 5N8', '+1 (403) 456-9986', '+1 (403) 456-8485', 'robert@chinookcorp.com'), (8, 'Callahan', 'Laura', 'IT Staff', 6, datetime.datetime(1968, 1, 9, 0, 0), datetime.datetime(2004, 3, 4, 0, 0), '923 7 ST NW', 'Lethbridge', 'AB', 'Canada', 'T1H 1Y8', '+1 (403) 467-3351', '+1 (403) 467-8772', 'laura@chinookcorp.com')]\n"
     ]
    }
   ],
   "source": [
    "# Build select statement for employees table: stmt\n",
    "stmt = select([employees])\n",
    "\n",
    "# Print the emitted statement to see the SQL emitted\n",
    "print(stmt, '\\n')\n",
    "\n",
    "# Execute the statement and print the results\n",
    "print(connection.execute(stmt).fetchall())\n"
   ]
  },
  {
   "cell_type": "markdown",
   "metadata": {
    "heading_collapsed": true,
    "hidden": true
   },
   "source": [
    "## 5.2 Filter with Where clause"
   ]
  },
  {
   "cell_type": "code",
   "execution_count": 55,
   "metadata": {
    "ExecuteTime": {
     "end_time": "2018-10-26T05:15:20.825935Z",
     "start_time": "2018-10-26T05:15:20.816254Z"
    },
    "hidden": true
   },
   "outputs": [
    {
     "name": "stdout",
     "output_type": "stream",
     "text": [
      "Andrew 1\n",
      "Nancy 2\n",
      "Jane 3\n",
      "Margaret 4\n",
      "Steve 5\n",
      "Michael 6\n",
      "Robert 7\n",
      "Laura 8\n"
     ]
    }
   ],
   "source": [
    "# Example using Where clause\n",
    "employees = Table('employees', metadata, autoload=True, \n",
    "                  autoload_with=engine)\n",
    "stmt = select([employees])\n",
    "stmt = stmt.where(employees.columns.Country == 'Canada')\n",
    "results = connection.execute(stmt).fetchall()\n",
    "for result in results:\n",
    "    print(result.FirstName, result.EmployeeId)"
   ]
  },
  {
   "cell_type": "markdown",
   "metadata": {
    "heading_collapsed": true,
    "hidden": true
   },
   "source": [
    "## 5.3 Filter with Where clause and Or conjunction"
   ]
  },
  {
   "cell_type": "code",
   "execution_count": 98,
   "metadata": {
    "ExecuteTime": {
     "end_time": "2018-10-27T01:57:23.166192Z",
     "start_time": "2018-10-27T01:57:23.158769Z"
    },
    "hidden": true
   },
   "outputs": [
    {
     "name": "stdout",
     "output_type": "stream",
     "text": [
      "Chicago Frank Ralston\n",
      "London Emma Jones\n",
      "London Phil Hughes\n"
     ]
    }
   ],
   "source": [
    "# Example using Where and Or\n",
    "# conjunctions\n",
    "from sqlalchemy import or_\n",
    "customers = Table('customers', metadata, autoload=True, \n",
    "                  autoload_with=engine)\n",
    "stmt = select([customers])\n",
    "stmt = stmt.where(or_(customers.columns.City == 'Chicago',\n",
    "                     customers.columns.City == 'London'\n",
    "                     )\n",
    "                 )\n",
    "# loop over the ResultProxy and print city, customer first and last name\n",
    "for result in connection.execute(stmt):\n",
    "    print(result.City, result.FirstName, result.LastName)"
   ]
  },
  {
   "cell_type": "markdown",
   "metadata": {
    "hidden": true
   },
   "source": [
    "## 5.4 Counting distinct values in a column"
   ]
  },
  {
   "cell_type": "code",
   "execution_count": 104,
   "metadata": {
    "ExecuteTime": {
     "end_time": "2018-10-27T03:05:53.239656Z",
     "start_time": "2018-10-27T03:05:53.232917Z"
    },
    "hidden": true
   },
   "outputs": [
    {
     "name": "stdout",
     "output_type": "stream",
     "text": [
      "53\n"
     ]
    }
   ],
   "source": [
    "# Query to count the distinct city values\n",
    "stmt = select([func.count(customers.columns.City.distinct())])\n",
    "\n",
    "# Execute the query and store the scalar result\n",
    "distinct_city_count = connection.execute(stmt).scalar()\n",
    "\n",
    "# Print the distinct cities\n",
    "print(distinct_city_count)"
   ]
  },
  {
   "cell_type": "markdown",
   "metadata": {
    "hidden": true
   },
   "source": [
    "## 5.5 Counting unique emails grouped by Country with a descriptive label for the new column"
   ]
  },
  {
   "cell_type": "code",
   "execution_count": 108,
   "metadata": {
    "ExecuteTime": {
     "end_time": "2018-10-27T03:13:36.509898Z",
     "start_time": "2018-10-27T03:13:36.497587Z"
    },
    "hidden": true
   },
   "outputs": [
    {
     "name": "stdout",
     "output_type": "stream",
     "text": [
      "[('Argentina', 1), ('Australia', 1), ('Austria', 1), ('Belgium', 1), ('Brazil', 5), ('Canada', 8), ('Chile', 1), ('Czech Republic', 2), ('Denmark', 1), ('Finland', 1), ('France', 5), ('Germany', 4), ('Hungary', 1), ('India', 2), ('Ireland', 1), ('Italy', 1), ('Netherlands', 1), ('Norway', 1), ('Poland', 1), ('Portugal', 2), ('Spain', 1), ('Sweden', 1), ('USA', 13), ('United Kingdom', 3)]\n"
     ]
    }
   ],
   "source": [
    "stmt = select([customers.columns.Country,\n",
    "              func.count(customers.columns.Email).label('email_count')])\n",
    "stmt = stmt.group_by(customers.columns.Country)\n",
    "results = connection.execute(stmt).fetchall()\n",
    "print(results)"
   ]
  },
  {
   "cell_type": "markdown",
   "metadata": {
    "heading_collapsed": true
   },
   "source": [
    "# 6. Convert results into dataframe and visualize using Matplotlib"
   ]
  },
  {
   "cell_type": "code",
   "execution_count": 109,
   "metadata": {
    "ExecuteTime": {
     "end_time": "2018-10-27T03:16:58.826921Z",
     "start_time": "2018-10-27T03:16:58.819387Z"
    },
    "hidden": true
   },
   "outputs": [
    {
     "name": "stdout",
     "output_type": "stream",
     "text": [
      "           Country  email_count\n",
      "0        Argentina            1\n",
      "1        Australia            1\n",
      "2          Austria            1\n",
      "3          Belgium            1\n",
      "4           Brazil            5\n",
      "5           Canada            8\n",
      "6            Chile            1\n",
      "7   Czech Republic            2\n",
      "8          Denmark            1\n",
      "9          Finland            1\n",
      "10          France            5\n",
      "11         Germany            4\n",
      "12         Hungary            1\n",
      "13           India            2\n",
      "14         Ireland            1\n",
      "15           Italy            1\n",
      "16     Netherlands            1\n",
      "17          Norway            1\n",
      "18          Poland            1\n",
      "19        Portugal            2\n",
      "20           Spain            1\n",
      "21          Sweden            1\n",
      "22             USA           13\n",
      "23  United Kingdom            3\n"
     ]
    }
   ],
   "source": [
    "# Create a DataFrame from the results\n",
    "df = pd.DataFrame(results)\n",
    "# Set column names\n",
    "df.columns = results[0].keys()\n",
    "# Print the Dataframe\n",
    "print(df)"
   ]
  },
  {
   "cell_type": "code",
   "execution_count": 119,
   "metadata": {
    "ExecuteTime": {
     "end_time": "2018-10-27T03:22:29.053185Z",
     "start_time": "2018-10-27T03:22:28.844588Z"
    },
    "hidden": true
   },
   "outputs": [
    {
     "data": {
      "image/png": "[encoded data removed]",
      "text/plain": [
       "<matplotlib.figure.Figure at 0x11b5f5ef0>"
      ]
     },
     "metadata": {},
     "output_type": "display_data"
    }
   ],
   "source": [
    "# df.plot.bar()\n",
    "df.plot.bar('Country','email_count')\n",
    "plt.show()"
   ]
  },
  {
   "cell_type": "markdown",
   "metadata": {
    "heading_collapsed": true
   },
   "source": [
    "# 7. Join customer and invoice tables"
   ]
  },
  {
   "cell_type": "code",
   "execution_count": 147,
   "metadata": {
    "ExecuteTime": {
     "end_time": "2018-10-28T01:44:37.059134Z",
     "start_time": "2018-10-28T01:44:37.039439Z"
    },
    "hidden": true
   },
   "outputs": [
    {
     "name": "stdout",
     "output_type": "stream",
     "text": [
      "dataframe dimensions:  (91, 5)\n",
      "   CustomerId                    Email Country InvoiceDate  Total\n",
      "0          16       fharris@google.com     USA  2009-02-19   0.99\n",
      "1          16       fharris@google.com     USA  2010-08-13   1.98\n",
      "2          16       fharris@google.com     USA  2010-09-23  13.86\n",
      "3          16       fharris@google.com     USA  2011-05-24   8.91\n",
      "4          16       fharris@google.com     USA  2012-12-28   1.98\n",
      "5          16       fharris@google.com     USA  2013-04-01   3.96\n",
      "6          16       fharris@google.com     USA  2013-07-04   5.94\n",
      "7          17  jacksmith@microsoft.com     USA  2009-03-04   1.98\n",
      "8          17  jacksmith@microsoft.com     USA  2009-06-06   3.96\n",
      "9          17  jacksmith@microsoft.com     USA  2009-09-08   5.94\n"
     ]
    }
   ],
   "source": [
    "stmt = select([\n",
    "    customers.columns.CustomerId,\n",
    "    customers.columns.Email,\n",
    "    customers.columns.Country,\n",
    "    invoices.columns.InvoiceDate,\n",
    "    invoices.columns.Total\n",
    "])\n",
    "\n",
    "# join census and state_fact tables\n",
    "stmt = stmt.select_from(\n",
    "    customers.join(invoices,\n",
    "                  customers.columns.CustomerId == \n",
    "                   invoices.columns.CustomerId))\n",
    "# subset based on condition\n",
    "stmt = stmt.where(customers.columns.Country == 'USA')\n",
    "\n",
    "df = pd.read_sql_query(stmt, engine)\n",
    "print('dataframe dimensions: ', df.shape)\n",
    "print(df.head(10))"
   ]
  },
  {
   "cell_type": "markdown",
   "metadata": {
    "heading_collapsed": true
   },
   "source": [
    "# 8. Hierarchical Tables\n",
    "- Hierarchical tables are tables that join with themselves"
   ]
  },
  {
   "cell_type": "code",
   "execution_count": 154,
   "metadata": {
    "ExecuteTime": {
     "end_time": "2018-10-28T02:02:54.819253Z",
     "start_time": "2018-10-28T02:02:54.799003Z"
    },
    "hidden": true
   },
   "outputs": [
    {
     "name": "stdout",
     "output_type": "stream",
     "text": [
      "('Andrew', 'Nancy', 'Sales Manager')\n",
      "('Andrew', 'Michael', 'IT Manager')\n",
      "('Michael', 'Robert', 'IT Staff')\n",
      "('Michael', 'Laura', 'IT Staff')\n",
      "('Nancy', 'Jane', 'Sales Support Agent')\n",
      "('Nancy', 'Margaret', 'Sales Support Agent')\n",
      "('Nancy', 'Steve', 'Sales Support Agent')\n"
     ]
    }
   ],
   "source": [
    "# Create a table to see each manager with their direct report employee\n",
    "\n",
    "# Make an alias of the employees table: managers\n",
    "managers = employees.alias()\n",
    "\n",
    "# Build a query to select manager's and their employees names: stmt\n",
    "stmt = select(\n",
    "    [managers.columns.FirstName.label('manager'),\n",
    "     employees.columns.FirstName.label('employee'),\n",
    "     employees.columns.Title\n",
    "    ]\n",
    ")\n",
    "\n",
    "# Match managers id with employees mgr: stmt\n",
    "stmt = stmt.where(managers.columns.EmployeeId == \n",
    "                  employees.columns.ReportsTo)\n",
    "\n",
    "# Order the statement by the managers name: stmt\n",
    "stmt = stmt.order_by(managers.columns.FirstName)\n",
    "\n",
    "# Execute statement: results\n",
    "results = connection.execute(stmt).fetchall()\n",
    "\n",
    "# Print records\n",
    "for record in results:\n",
    "    print(record)"
   ]
  },
  {
   "cell_type": "markdown",
   "metadata": {
    "heading_collapsed": true
   },
   "source": [
    "# 9. Dealing with large results\n",
    "- If working with a large ResultProxy and limited by memory, we can obtain blocks of rows."
   ]
  },
  {
   "cell_type": "code",
   "execution_count": 171,
   "metadata": {
    "ExecuteTime": {
     "end_time": "2018-10-28T02:58:11.532917Z",
     "start_time": "2018-10-28T02:58:11.510258Z"
    },
    "hidden": true
   },
   "outputs": [
    {
     "name": "stdout",
     "output_type": "stream",
     "text": [
      "412\n"
     ]
    }
   ],
   "source": [
    "# Create engine: engine\n",
    "engine = create_engine('sqlite:///chinook.db')\n",
    "\n",
    "# Create a Results Proxy with 412 rows\n",
    "stmt = select([invoices])\n",
    "results_proxy = connection.execute(stmt)#.fetchall()\n",
    "\n",
    "# Load by blocks of 50 rows\n",
    "# Start a while loop checking for more results\n",
    "more_results = True\n",
    "total_rows = 0\n",
    "while more_results:\n",
    "    # Fetch the first 50 results from the ResultProxy: partial_results\n",
    "    partial_results = results_proxy.fetchmany(50)\n",
    "\n",
    "    # if empty list, set more_results to False\n",
    "    if partial_results == []:\n",
    "        more_results = False\n",
    "\n",
    "    # Loop over the fetched records and increment the count for the state\n",
    "    for row in partial_results:\n",
    "        # modify to add desired action to each row here\n",
    "        total_rows += 1\n",
    "\n",
    "# Close the ResultProxy, and thus the connection\n",
    "results_proxy.close()\n",
    "\n",
    "# Print total rows loaded\n",
    "print(total_rows)"
   ]
  },
  {
   "cell_type": "markdown",
   "metadata": {
    "heading_collapsed": true
   },
   "source": [
    "# 10. Creating and Manipulating databases and tables"
   ]
  },
  {
   "cell_type": "markdown",
   "metadata": {
    "hidden": true
   },
   "source": [
    "## 10.1 Create a new table with constraints and defaults"
   ]
  },
  {
   "cell_type": "code",
   "execution_count": 187,
   "metadata": {
    "ExecuteTime": {
     "end_time": "2018-10-28T03:35:20.639967Z",
     "start_time": "2018-10-28T03:35:20.621014Z"
    },
    "hidden": true
   },
   "outputs": [
    {
     "name": "stdout",
     "output_type": "stream",
     "text": [
      "Table('data', MetaData(bind=None), Column('id', Integer(), table=<data>), Column('name', String(length=255), table=<data>), Column('salary', Float(), table=<data>), Column('active', Boolean(), table=<data>, default=ColumnDefault(False)), schema=None)\n"
     ]
    }
   ],
   "source": [
    "# Create a table of employee info\n",
    "employee_data = Table('employee_data', metadata,\n",
    "             Column('id', Integer()),\n",
    "             Column('name', String(255), unique=True),\n",
    "             Column('salary', Float()),\n",
    "             Column('active', Boolean(), default=False)\n",
    ")\n",
    "\n",
    "# Use the metadata to create the table\n",
    "metadata.create_all(engine)\n",
    "\n",
    "# Print the table details\n",
    "print(repr(metadata.tables['data']))"
   ]
  },
  {
   "cell_type": "markdown",
   "metadata": {
    "hidden": true
   },
   "source": [
    "## 10.2 Insert multiple rows"
   ]
  },
  {
   "cell_type": "code",
   "execution_count": 189,
   "metadata": {
    "ExecuteTime": {
     "end_time": "2018-10-28T03:36:09.942773Z",
     "start_time": "2018-10-28T03:36:09.926028Z"
    },
    "hidden": true
   },
   "outputs": [
    {
     "name": "stdout",
     "output_type": "stream",
     "text": [
      "4\n"
     ]
    }
   ],
   "source": [
    "stmt = insert(employee_data)\n",
    "# Insert one dictionary for each record\n",
    "values_list = [\n",
    "    {'id':1, 'name':'John', 'salary':100000.00, 'active':True},\n",
    "    {'id':2, 'name':'Sara', 'salary':80000.00, 'active':False},\n",
    "    {'id':3, 'name':'Mike', 'salary':60000.00, 'active':True},\n",
    "    {'id':4, 'name':'Jen', 'salary':120000.00, 'active':True}\n",
    "]\n",
    "result_proxy = connection.execute(stmt, values_list)\n",
    "\n",
    "# Check number of rows added\n",
    "print(result_proxy.rowcount)"
   ]
  },
  {
   "cell_type": "markdown",
   "metadata": {
    "hidden": true
   },
   "source": [
    "## 10.3 Updating multiple rows"
   ]
  },
  {
   "cell_type": "code",
   "execution_count": 195,
   "metadata": {
    "ExecuteTime": {
     "end_time": "2018-10-28T03:41:55.197061Z",
     "start_time": "2018-10-28T03:41:55.184064Z"
    },
    "hidden": true
   },
   "outputs": [
    {
     "name": "stdout",
     "output_type": "stream",
     "text": [
      "3\n"
     ]
    }
   ],
   "source": [
    "# Build a statement to update the notes to 'The Wild West': stmt\n",
    "stmt = update(employee_data).values(active=False)\n",
    "\n",
    "# Append a where clause to match the West census region records\n",
    "stmt = stmt.where(employee_data.columns.active == True)\n",
    "\n",
    "# Execute the statement: results\n",
    "results = connection.execute(stmt)\n",
    "\n",
    "# Print rowcount\n",
    "print(results.rowcount)"
   ]
  }
 ],
 "metadata": {
  "kernelspec": {
   "display_name": "Python 3",
   "language": "python",
   "name": "python3"
  },
  "language_info": {
   "codemirror_mode": {
    "name": "ipython",
    "version": 3
   },
   "file_extension": ".py",
   "mimetype": "text/x-python",
   "name": "python",
   "nbconvert_exporter": "python",
   "pygments_lexer": "ipython3",
   "version": "3.6.6"
  }
 },
 "nbformat": 4,
 "nbformat_minor": 2
}
